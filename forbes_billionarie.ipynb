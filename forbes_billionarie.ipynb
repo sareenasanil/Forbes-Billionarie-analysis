{
 "cells": [
  {
   "cell_type": "code",
   "execution_count": 52,
   "id": "2844e8e1",
   "metadata": {},
   "outputs": [],
   "source": [
    "import pandas as pd\n",
    "import numpy as np\n",
    "import matplotlib.pyplot as plt\n",
    "%matplotlib inline\n",
    "import seaborn as sns"
   ]
  },
  {
   "cell_type": "code",
   "execution_count": 2,
   "id": "b1d92ca8",
   "metadata": {},
   "outputs": [
    {
     "data": {
      "text/html": [
       "<div>\n",
       "<style scoped>\n",
       "    .dataframe tbody tr th:only-of-type {\n",
       "        vertical-align: middle;\n",
       "    }\n",
       "\n",
       "    .dataframe tbody tr th {\n",
       "        vertical-align: top;\n",
       "    }\n",
       "\n",
       "    .dataframe thead th {\n",
       "        text-align: right;\n",
       "    }\n",
       "</style>\n",
       "<table border=\"1\" class=\"dataframe\">\n",
       "  <thead>\n",
       "    <tr style=\"text-align: right;\">\n",
       "      <th></th>\n",
       "      <th>Name</th>\n",
       "      <th>NetWorth</th>\n",
       "      <th>Country</th>\n",
       "      <th>Source</th>\n",
       "      <th>Rank</th>\n",
       "      <th>Age</th>\n",
       "      <th>Industry</th>\n",
       "    </tr>\n",
       "  </thead>\n",
       "  <tbody>\n",
       "    <tr>\n",
       "      <th>0</th>\n",
       "      <td>Jeff Bezos</td>\n",
       "      <td>$177 B</td>\n",
       "      <td>United States</td>\n",
       "      <td>Amazon</td>\n",
       "      <td>1</td>\n",
       "      <td>57.0</td>\n",
       "      <td>Technology</td>\n",
       "    </tr>\n",
       "    <tr>\n",
       "      <th>1</th>\n",
       "      <td>Elon Musk</td>\n",
       "      <td>$151 B</td>\n",
       "      <td>United States</td>\n",
       "      <td>Tesla, SpaceX</td>\n",
       "      <td>2</td>\n",
       "      <td>49.0</td>\n",
       "      <td>Automotive</td>\n",
       "    </tr>\n",
       "    <tr>\n",
       "      <th>2</th>\n",
       "      <td>Bernard Arnault &amp; family</td>\n",
       "      <td>$150 B</td>\n",
       "      <td>France</td>\n",
       "      <td>LVMH</td>\n",
       "      <td>3</td>\n",
       "      <td>72.0</td>\n",
       "      <td>Fashion &amp; Retail</td>\n",
       "    </tr>\n",
       "    <tr>\n",
       "      <th>3</th>\n",
       "      <td>Bill Gates</td>\n",
       "      <td>$124 B</td>\n",
       "      <td>United States</td>\n",
       "      <td>Microsoft</td>\n",
       "      <td>4</td>\n",
       "      <td>65.0</td>\n",
       "      <td>Technology</td>\n",
       "    </tr>\n",
       "    <tr>\n",
       "      <th>4</th>\n",
       "      <td>Mark Zuckerberg</td>\n",
       "      <td>$97 B</td>\n",
       "      <td>United States</td>\n",
       "      <td>Facebook</td>\n",
       "      <td>5</td>\n",
       "      <td>36.0</td>\n",
       "      <td>Technology</td>\n",
       "    </tr>\n",
       "  </tbody>\n",
       "</table>\n",
       "</div>"
      ],
      "text/plain": [
       "                       Name NetWorth        Country         Source  Rank  \\\n",
       "0                Jeff Bezos   $177 B  United States         Amazon     1   \n",
       "1                 Elon Musk   $151 B  United States  Tesla, SpaceX     2   \n",
       "2  Bernard Arnault & family   $150 B         France           LVMH     3   \n",
       "3                Bill Gates   $124 B  United States      Microsoft     4   \n",
       "4           Mark Zuckerberg    $97 B  United States       Facebook     5   \n",
       "\n",
       "    Age          Industry  \n",
       "0  57.0        Technology  \n",
       "1  49.0        Automotive  \n",
       "2  72.0  Fashion & Retail  \n",
       "3  65.0        Technology  \n",
       "4  36.0        Technology  "
      ]
     },
     "execution_count": 2,
     "metadata": {},
     "output_type": "execute_result"
    }
   ],
   "source": [
    "data=pd.read_csv('Billionaire.csv')\n",
    "data.head()"
   ]
  },
  {
   "cell_type": "code",
   "execution_count": 11,
   "id": "f6da4f10",
   "metadata": {},
   "outputs": [],
   "source": [
    "data['NetWorth']=data['NetWorth'].apply(lambda x:str(x).replace('$','') if '$' in str(x) else str(x))\n",
    "data['NetWorth']=data['NetWorth'].apply(lambda x:str(x).replace('B','') if 'B' in str(x) else str(x))\n",
    "data['NetWorth']=data['NetWorth'].apply(lambda x:float(x))"
   ]
  },
  {
   "cell_type": "code",
   "execution_count": 12,
   "id": "6ace9b98",
   "metadata": {},
   "outputs": [
    {
     "data": {
      "text/plain": [
       "0       177.0\n",
       "1       151.0\n",
       "2       150.0\n",
       "3       124.0\n",
       "4        97.0\n",
       "        ...  \n",
       "2750      1.0\n",
       "2751      1.0\n",
       "2752      1.0\n",
       "2753      1.0\n",
       "2754      1.0\n",
       "Name: NetWorth, Length: 2755, dtype: float64"
      ]
     },
     "execution_count": 12,
     "metadata": {},
     "output_type": "execute_result"
    }
   ],
   "source": [
    "data['NetWorth']"
   ]
  },
  {
   "cell_type": "code",
   "execution_count": 3,
   "id": "8e64856c",
   "metadata": {},
   "outputs": [
    {
     "data": {
      "text/plain": [
       "(2755, 7)"
      ]
     },
     "execution_count": 3,
     "metadata": {},
     "output_type": "execute_result"
    }
   ],
   "source": [
    "data.shape"
   ]
  },
  {
   "cell_type": "code",
   "execution_count": 13,
   "id": "1ea687bd",
   "metadata": {},
   "outputs": [
    {
     "data": {
      "text/plain": [
       "Name         0\n",
       "NetWorth     0\n",
       "Country      0\n",
       "Source       0\n",
       "Rank         0\n",
       "Age         79\n",
       "Industry     0\n",
       "dtype: int64"
      ]
     },
     "execution_count": 13,
     "metadata": {},
     "output_type": "execute_result"
    }
   ],
   "source": [
    "data.isnull().sum()"
   ]
  },
  {
   "cell_type": "code",
   "execution_count": 14,
   "id": "d5bfdd4c",
   "metadata": {},
   "outputs": [
    {
     "data": {
      "text/html": [
       "<div>\n",
       "<style scoped>\n",
       "    .dataframe tbody tr th:only-of-type {\n",
       "        vertical-align: middle;\n",
       "    }\n",
       "\n",
       "    .dataframe tbody tr th {\n",
       "        vertical-align: top;\n",
       "    }\n",
       "\n",
       "    .dataframe thead th {\n",
       "        text-align: right;\n",
       "    }\n",
       "</style>\n",
       "<table border=\"1\" class=\"dataframe\">\n",
       "  <thead>\n",
       "    <tr style=\"text-align: right;\">\n",
       "      <th></th>\n",
       "      <th>Name</th>\n",
       "      <th>NetWorth</th>\n",
       "      <th>Country</th>\n",
       "      <th>Source</th>\n",
       "      <th>Rank</th>\n",
       "      <th>Age</th>\n",
       "      <th>Industry</th>\n",
       "    </tr>\n",
       "  </thead>\n",
       "  <tbody>\n",
       "    <tr>\n",
       "      <th>132</th>\n",
       "      <td>Hinduja brothers</td>\n",
       "      <td>14.9</td>\n",
       "      <td>United Kingdom</td>\n",
       "      <td>diversified</td>\n",
       "      <td>133</td>\n",
       "      <td>NaN</td>\n",
       "      <td>Diversified</td>\n",
       "    </tr>\n",
       "    <tr>\n",
       "      <th>255</th>\n",
       "      <td>Lam Wai-ying</td>\n",
       "      <td>9.1</td>\n",
       "      <td>Hong Kong</td>\n",
       "      <td>smartphone screens</td>\n",
       "      <td>256</td>\n",
       "      <td>NaN</td>\n",
       "      <td>Manufacturing</td>\n",
       "    </tr>\n",
       "    <tr>\n",
       "      <th>268</th>\n",
       "      <td>Chan Tan Ching-fen</td>\n",
       "      <td>8.8</td>\n",
       "      <td>Hong Kong</td>\n",
       "      <td>real estate</td>\n",
       "      <td>269</td>\n",
       "      <td>NaN</td>\n",
       "      <td>Real Estate</td>\n",
       "    </tr>\n",
       "    <tr>\n",
       "      <th>285</th>\n",
       "      <td>Anthony von Mandl</td>\n",
       "      <td>8.7</td>\n",
       "      <td>Canada</td>\n",
       "      <td>alcoholic beverages</td>\n",
       "      <td>274</td>\n",
       "      <td>NaN</td>\n",
       "      <td>Food &amp; Beverage</td>\n",
       "    </tr>\n",
       "    <tr>\n",
       "      <th>294</th>\n",
       "      <td>Kuldip Singh &amp; Gurbachan Singh Dhingra</td>\n",
       "      <td>8.4</td>\n",
       "      <td>India</td>\n",
       "      <td>paints</td>\n",
       "      <td>294</td>\n",
       "      <td>NaN</td>\n",
       "      <td>Manufacturing</td>\n",
       "    </tr>\n",
       "    <tr>\n",
       "      <th>...</th>\n",
       "      <td>...</td>\n",
       "      <td>...</td>\n",
       "      <td>...</td>\n",
       "      <td>...</td>\n",
       "      <td>...</td>\n",
       "      <td>...</td>\n",
       "      <td>...</td>\n",
       "    </tr>\n",
       "    <tr>\n",
       "      <th>2580</th>\n",
       "      <td>Lai Baosheng</td>\n",
       "      <td>1.1</td>\n",
       "      <td>China</td>\n",
       "      <td>consumer technology</td>\n",
       "      <td>2524</td>\n",
       "      <td>NaN</td>\n",
       "      <td>Technology</td>\n",
       "    </tr>\n",
       "    <tr>\n",
       "      <th>2639</th>\n",
       "      <td>Tseng Sing-ai</td>\n",
       "      <td>1.1</td>\n",
       "      <td>Taiwan</td>\n",
       "      <td>petrochemicals</td>\n",
       "      <td>2524</td>\n",
       "      <td>NaN</td>\n",
       "      <td>Manufacturing</td>\n",
       "    </tr>\n",
       "    <tr>\n",
       "      <th>2680</th>\n",
       "      <td>Carmen Daurella Aguilera</td>\n",
       "      <td>1.0</td>\n",
       "      <td>Spain</td>\n",
       "      <td>Coca-Cola bottler</td>\n",
       "      <td>2674</td>\n",
       "      <td>NaN</td>\n",
       "      <td>Food &amp; Beverage</td>\n",
       "    </tr>\n",
       "    <tr>\n",
       "      <th>2714</th>\n",
       "      <td>Michael McCain</td>\n",
       "      <td>1.0</td>\n",
       "      <td>Canada</td>\n",
       "      <td>packaged meats</td>\n",
       "      <td>2674</td>\n",
       "      <td>NaN</td>\n",
       "      <td>Food &amp; Beverage</td>\n",
       "    </tr>\n",
       "    <tr>\n",
       "      <th>2720</th>\n",
       "      <td>Maria Pinheiro</td>\n",
       "      <td>1.0</td>\n",
       "      <td>Brazil</td>\n",
       "      <td>supermarkets</td>\n",
       "      <td>2674</td>\n",
       "      <td>NaN</td>\n",
       "      <td>Fashion &amp; Retail</td>\n",
       "    </tr>\n",
       "  </tbody>\n",
       "</table>\n",
       "<p>79 rows × 7 columns</p>\n",
       "</div>"
      ],
      "text/plain": [
       "                                        Name  NetWorth         Country  \\\n",
       "132                         Hinduja brothers      14.9  United Kingdom   \n",
       "255                             Lam Wai-ying       9.1       Hong Kong   \n",
       "268                       Chan Tan Ching-fen       8.8       Hong Kong   \n",
       "285                        Anthony von Mandl       8.7          Canada   \n",
       "294   Kuldip Singh & Gurbachan Singh Dhingra       8.4           India   \n",
       "...                                      ...       ...             ...   \n",
       "2580                            Lai Baosheng       1.1           China   \n",
       "2639                           Tseng Sing-ai       1.1          Taiwan   \n",
       "2680                Carmen Daurella Aguilera       1.0           Spain   \n",
       "2714                          Michael McCain       1.0          Canada   \n",
       "2720                          Maria Pinheiro       1.0          Brazil   \n",
       "\n",
       "                   Source  Rank  Age          Industry  \n",
       "132           diversified   133  NaN       Diversified  \n",
       "255    smartphone screens   256  NaN     Manufacturing  \n",
       "268           real estate   269  NaN       Real Estate  \n",
       "285   alcoholic beverages   274  NaN   Food & Beverage  \n",
       "294                paints   294  NaN     Manufacturing  \n",
       "...                   ...   ...  ...               ...  \n",
       "2580  consumer technology  2524  NaN        Technology  \n",
       "2639       petrochemicals  2524  NaN     Manufacturing  \n",
       "2680    Coca-Cola bottler  2674  NaN   Food & Beverage  \n",
       "2714       packaged meats  2674  NaN   Food & Beverage  \n",
       "2720         supermarkets  2674  NaN  Fashion & Retail  \n",
       "\n",
       "[79 rows x 7 columns]"
      ]
     },
     "execution_count": 14,
     "metadata": {},
     "output_type": "execute_result"
    }
   ],
   "source": [
    "data[data['Age'].isnull()]"
   ]
  },
  {
   "cell_type": "code",
   "execution_count": 47,
   "id": "bb5d7aa8",
   "metadata": {},
   "outputs": [
    {
     "data": {
      "text/plain": [
       "<AxesSubplot:>"
      ]
     },
     "execution_count": 47,
     "metadata": {},
     "output_type": "execute_result"
    },
    {
     "data": {
      "image/png": "[encoded data removed]",
      "text/plain": [
       "<Figure size 432x288 with 1 Axes>"
      ]
     },
     "metadata": {
      "needs_background": "light"
     },
     "output_type": "display_data"
    }
   ],
   "source": [
    "data.boxplot(column='Age')"
   ]
  },
  {
   "cell_type": "code",
   "execution_count": 16,
   "id": "57f67c0b",
   "metadata": {},
   "outputs": [
    {
     "data": {
      "text/html": [
       "<div>\n",
       "<style scoped>\n",
       "    .dataframe tbody tr th:only-of-type {\n",
       "        vertical-align: middle;\n",
       "    }\n",
       "\n",
       "    .dataframe tbody tr th {\n",
       "        vertical-align: top;\n",
       "    }\n",
       "\n",
       "    .dataframe thead th {\n",
       "        text-align: right;\n",
       "    }\n",
       "</style>\n",
       "<table border=\"1\" class=\"dataframe\">\n",
       "  <thead>\n",
       "    <tr style=\"text-align: right;\">\n",
       "      <th></th>\n",
       "      <th>NetWorth</th>\n",
       "      <th>Rank</th>\n",
       "      <th>Age</th>\n",
       "    </tr>\n",
       "  </thead>\n",
       "  <tbody>\n",
       "    <tr>\n",
       "      <th>count</th>\n",
       "      <td>2755.000000</td>\n",
       "      <td>2755.000000</td>\n",
       "      <td>2676.000000</td>\n",
       "    </tr>\n",
       "    <tr>\n",
       "      <th>mean</th>\n",
       "      <td>4.749220</td>\n",
       "      <td>1345.663521</td>\n",
       "      <td>63.113602</td>\n",
       "    </tr>\n",
       "    <tr>\n",
       "      <th>std</th>\n",
       "      <td>9.615358</td>\n",
       "      <td>772.669811</td>\n",
       "      <td>13.445153</td>\n",
       "    </tr>\n",
       "    <tr>\n",
       "      <th>min</th>\n",
       "      <td>1.000000</td>\n",
       "      <td>1.000000</td>\n",
       "      <td>18.000000</td>\n",
       "    </tr>\n",
       "    <tr>\n",
       "      <th>25%</th>\n",
       "      <td>1.500000</td>\n",
       "      <td>680.000000</td>\n",
       "      <td>54.000000</td>\n",
       "    </tr>\n",
       "    <tr>\n",
       "      <th>50%</th>\n",
       "      <td>2.300000</td>\n",
       "      <td>1362.000000</td>\n",
       "      <td>63.000000</td>\n",
       "    </tr>\n",
       "    <tr>\n",
       "      <th>75%</th>\n",
       "      <td>4.200000</td>\n",
       "      <td>2035.000000</td>\n",
       "      <td>73.000000</td>\n",
       "    </tr>\n",
       "    <tr>\n",
       "      <th>max</th>\n",
       "      <td>177.000000</td>\n",
       "      <td>2674.000000</td>\n",
       "      <td>99.000000</td>\n",
       "    </tr>\n",
       "  </tbody>\n",
       "</table>\n",
       "</div>"
      ],
      "text/plain": [
       "          NetWorth         Rank          Age\n",
       "count  2755.000000  2755.000000  2676.000000\n",
       "mean      4.749220  1345.663521    63.113602\n",
       "std       9.615358   772.669811    13.445153\n",
       "min       1.000000     1.000000    18.000000\n",
       "25%       1.500000   680.000000    54.000000\n",
       "50%       2.300000  1362.000000    63.000000\n",
       "75%       4.200000  2035.000000    73.000000\n",
       "max     177.000000  2674.000000    99.000000"
      ]
     },
     "execution_count": 16,
     "metadata": {},
     "output_type": "execute_result"
    }
   ],
   "source": [
    "data.describe()"
   ]
  },
  {
   "cell_type": "code",
   "execution_count": 17,
   "id": "14a42e0b",
   "metadata": {},
   "outputs": [],
   "source": [
    "def inputmedian(x):\n",
    "    return x.fillna(x.median())\n",
    "data['Age']=data['Age'].transform(inputmedian)"
   ]
  },
  {
   "cell_type": "code",
   "execution_count": 18,
   "id": "b3dd8e80",
   "metadata": {},
   "outputs": [
    {
     "data": {
      "text/plain": [
       "0"
      ]
     },
     "execution_count": 18,
     "metadata": {},
     "output_type": "execute_result"
    }
   ],
   "source": [
    "data['Age'].isnull().sum()"
   ]
  },
  {
   "cell_type": "code",
   "execution_count": 19,
   "id": "9de6b3a5",
   "metadata": {},
   "outputs": [
    {
     "data": {
      "text/plain": [
       "United States     724\n",
       "China             626\n",
       "India             140\n",
       "Germany           136\n",
       "Russia            118\n",
       "Hong Kong          71\n",
       "Brazil             65\n",
       "Canada             64\n",
       "United Kingdom     56\n",
       "Italy              51\n",
       "Name: Country, dtype: int64"
      ]
     },
     "execution_count": 19,
     "metadata": {},
     "output_type": "execute_result"
    }
   ],
   "source": [
    "# top  10 countries \n",
    "data['Country'].value_counts().head(10)"
   ]
  },
  {
   "cell_type": "code",
   "execution_count": 67,
   "id": "17892043",
   "metadata": {},
   "outputs": [
    {
     "data": {
      "text/html": [
       "<div>\n",
       "<style scoped>\n",
       "    .dataframe tbody tr th:only-of-type {\n",
       "        vertical-align: middle;\n",
       "    }\n",
       "\n",
       "    .dataframe tbody tr th {\n",
       "        vertical-align: top;\n",
       "    }\n",
       "\n",
       "    .dataframe thead th {\n",
       "        text-align: right;\n",
       "    }\n",
       "</style>\n",
       "<table border=\"1\" class=\"dataframe\">\n",
       "  <thead>\n",
       "    <tr style=\"text-align: right;\">\n",
       "      <th></th>\n",
       "      <th>CountofName</th>\n",
       "      <th>SumofNetworth</th>\n",
       "    </tr>\n",
       "    <tr>\n",
       "      <th>Country</th>\n",
       "      <th></th>\n",
       "      <th></th>\n",
       "    </tr>\n",
       "  </thead>\n",
       "  <tbody>\n",
       "    <tr>\n",
       "      <th>United States</th>\n",
       "      <td>724</td>\n",
       "      <td>4398.4</td>\n",
       "    </tr>\n",
       "    <tr>\n",
       "      <th>China</th>\n",
       "      <td>626</td>\n",
       "      <td>2531.9</td>\n",
       "    </tr>\n",
       "    <tr>\n",
       "      <th>Germany</th>\n",
       "      <td>136</td>\n",
       "      <td>625.5</td>\n",
       "    </tr>\n",
       "    <tr>\n",
       "      <th>India</th>\n",
       "      <td>140</td>\n",
       "      <td>596.4</td>\n",
       "    </tr>\n",
       "    <tr>\n",
       "      <th>Russia</th>\n",
       "      <td>118</td>\n",
       "      <td>586.0</td>\n",
       "    </tr>\n",
       "    <tr>\n",
       "      <th>France</th>\n",
       "      <td>42</td>\n",
       "      <td>512.2</td>\n",
       "    </tr>\n",
       "    <tr>\n",
       "      <th>Hong Kong</th>\n",
       "      <td>71</td>\n",
       "      <td>448.2</td>\n",
       "    </tr>\n",
       "    <tr>\n",
       "      <th>Canada</th>\n",
       "      <td>64</td>\n",
       "      <td>231.1</td>\n",
       "    </tr>\n",
       "    <tr>\n",
       "      <th>Japan</th>\n",
       "      <td>49</td>\n",
       "      <td>225.4</td>\n",
       "    </tr>\n",
       "    <tr>\n",
       "      <th>United Kingdom</th>\n",
       "      <td>56</td>\n",
       "      <td>213.9</td>\n",
       "    </tr>\n",
       "    <tr>\n",
       "      <th>Brazil</th>\n",
       "      <td>65</td>\n",
       "      <td>211.7</td>\n",
       "    </tr>\n",
       "    <tr>\n",
       "      <th>Italy</th>\n",
       "      <td>51</td>\n",
       "      <td>204.5</td>\n",
       "    </tr>\n",
       "    <tr>\n",
       "      <th>Sweden</th>\n",
       "      <td>41</td>\n",
       "      <td>182.0</td>\n",
       "    </tr>\n",
       "    <tr>\n",
       "      <th>Australia</th>\n",
       "      <td>44</td>\n",
       "      <td>181.5</td>\n",
       "    </tr>\n",
       "    <tr>\n",
       "      <th>Singapore</th>\n",
       "      <td>27</td>\n",
       "      <td>156.9</td>\n",
       "    </tr>\n",
       "    <tr>\n",
       "      <th>Switzerland</th>\n",
       "      <td>40</td>\n",
       "      <td>145.5</td>\n",
       "    </tr>\n",
       "    <tr>\n",
       "      <th>Spain</th>\n",
       "      <td>30</td>\n",
       "      <td>137.0</td>\n",
       "    </tr>\n",
       "    <tr>\n",
       "      <th>Mexico</th>\n",
       "      <td>13</td>\n",
       "      <td>136.1</td>\n",
       "    </tr>\n",
       "    <tr>\n",
       "      <th>South Korea</th>\n",
       "      <td>43</td>\n",
       "      <td>121.4</td>\n",
       "    </tr>\n",
       "    <tr>\n",
       "      <th>Taiwan</th>\n",
       "      <td>47</td>\n",
       "      <td>115.6</td>\n",
       "    </tr>\n",
       "  </tbody>\n",
       "</table>\n",
       "</div>"
      ],
      "text/plain": [
       "                CountofName  SumofNetworth\n",
       "Country                                   \n",
       "United States           724         4398.4\n",
       "China                   626         2531.9\n",
       "Germany                 136          625.5\n",
       "India                   140          596.4\n",
       "Russia                  118          586.0\n",
       "France                   42          512.2\n",
       "Hong Kong                71          448.2\n",
       "Canada                   64          231.1\n",
       "Japan                    49          225.4\n",
       "United Kingdom           56          213.9\n",
       "Brazil                   65          211.7\n",
       "Italy                    51          204.5\n",
       "Sweden                   41          182.0\n",
       "Australia                44          181.5\n",
       "Singapore                27          156.9\n",
       "Switzerland              40          145.5\n",
       "Spain                    30          137.0\n",
       "Mexico                   13          136.1\n",
       "South Korea              43          121.4\n",
       "Taiwan                   47          115.6"
      ]
     },
     "execution_count": 67,
     "metadata": {},
     "output_type": "execute_result"
    }
   ],
   "source": [
    "country_grp1=data.groupby(by='Country').agg({'Country':'count','NetWorth':'sum'})\n",
    "country_grp1.rename({'Country':'CountofName','NetWorth':'SumofNetworth'},axis=1,inplace=True)\n",
    "#country_grp['%Count_of_Name'] = round((country_grp['CountofName']/sum(country_grp['CountofName']))*100, 2)\n",
    "country_grp1.sort_values(by='SumofNetworth', ascending = False,inplace=True)\n",
    "country_grp1[:20]\n"
   ]
  },
  {
   "cell_type": "code",
   "execution_count": 22,
   "id": "2d5774cf",
   "metadata": {},
   "outputs": [
    {
     "data": {
      "text/plain": [
       "real estate         171\n",
       "pharmaceuticals      99\n",
       "investments          90\n",
       "diversified          85\n",
       "software             62\n",
       "                   ... \n",
       "medical products      1\n",
       "medical labs          1\n",
       "payment software      1\n",
       "video streaming       1\n",
       "Urban Outfitters      1\n",
       "Name: Source, Length: 924, dtype: int64"
      ]
     },
     "execution_count": 22,
     "metadata": {},
     "output_type": "execute_result"
    }
   ],
   "source": [
    "#top sources\n",
    "data['Source'].value_counts()"
   ]
  },
  {
   "cell_type": "code",
   "execution_count": 23,
   "id": "003d970a",
   "metadata": {},
   "outputs": [
    {
     "data": {
      "text/html": [
       "<div>\n",
       "<style scoped>\n",
       "    .dataframe tbody tr th:only-of-type {\n",
       "        vertical-align: middle;\n",
       "    }\n",
       "\n",
       "    .dataframe tbody tr th {\n",
       "        vertical-align: top;\n",
       "    }\n",
       "\n",
       "    .dataframe thead th {\n",
       "        text-align: right;\n",
       "    }\n",
       "</style>\n",
       "<table border=\"1\" class=\"dataframe\">\n",
       "  <thead>\n",
       "    <tr style=\"text-align: right;\">\n",
       "      <th></th>\n",
       "      <th>Source</th>\n",
       "      <th>NetWorth</th>\n",
       "    </tr>\n",
       "    <tr>\n",
       "      <th>Source</th>\n",
       "      <th></th>\n",
       "      <th></th>\n",
       "    </tr>\n",
       "  </thead>\n",
       "  <tbody>\n",
       "    <tr>\n",
       "      <th>real estate</th>\n",
       "      <td>171</td>\n",
       "      <td>686.1</td>\n",
       "    </tr>\n",
       "    <tr>\n",
       "      <th>diversified</th>\n",
       "      <td>85</td>\n",
       "      <td>378.2</td>\n",
       "    </tr>\n",
       "    <tr>\n",
       "      <th>investments</th>\n",
       "      <td>90</td>\n",
       "      <td>339.2</td>\n",
       "    </tr>\n",
       "    <tr>\n",
       "      <th>pharmaceuticals</th>\n",
       "      <td>99</td>\n",
       "      <td>335.3</td>\n",
       "    </tr>\n",
       "    <tr>\n",
       "      <th>software</th>\n",
       "      <td>62</td>\n",
       "      <td>275.8</td>\n",
       "    </tr>\n",
       "    <tr>\n",
       "      <th>hedge funds</th>\n",
       "      <td>42</td>\n",
       "      <td>240.1</td>\n",
       "    </tr>\n",
       "    <tr>\n",
       "      <th>Amazon</th>\n",
       "      <td>2</td>\n",
       "      <td>230.0</td>\n",
       "    </tr>\n",
       "    <tr>\n",
       "      <th>e-commerce</th>\n",
       "      <td>24</td>\n",
       "      <td>225.5</td>\n",
       "    </tr>\n",
       "    <tr>\n",
       "      <th>Walmart</th>\n",
       "      <td>7</td>\n",
       "      <td>220.2</td>\n",
       "    </tr>\n",
       "    <tr>\n",
       "      <th>Google</th>\n",
       "      <td>5</td>\n",
       "      <td>216.4</td>\n",
       "    </tr>\n",
       "  </tbody>\n",
       "</table>\n",
       "</div>"
      ],
      "text/plain": [
       "                 Source  NetWorth\n",
       "Source                           \n",
       "real estate         171     686.1\n",
       "diversified          85     378.2\n",
       "investments          90     339.2\n",
       "pharmaceuticals      99     335.3\n",
       "software             62     275.8\n",
       "hedge funds          42     240.1\n",
       "Amazon                2     230.0\n",
       "e-commerce           24     225.5\n",
       "Walmart               7     220.2\n",
       "Google                5     216.4"
      ]
     },
     "execution_count": 23,
     "metadata": {},
     "output_type": "execute_result"
    }
   ],
   "source": [
    "source_grp = data.groupby('Source').agg({'Source' : 'count', 'NetWorth':'sum'})\n",
    "source_grp.sort_values(by='NetWorth',ascending=False).head(10)"
   ]
  },
  {
   "cell_type": "code",
   "execution_count": 26,
   "id": "fe6a2383",
   "metadata": {},
   "outputs": [
    {
     "data": {
      "text/plain": [
       "18.0"
      ]
     },
     "execution_count": 26,
     "metadata": {},
     "output_type": "execute_result"
    }
   ],
   "source": [
    "data['Age'].min()"
   ]
  },
  {
   "cell_type": "code",
   "execution_count": 30,
   "id": "b1957a35",
   "metadata": {},
   "outputs": [],
   "source": [
    "data['Age_Group'] = np.where((data['Age'] >= 18) & (data['Age'] <= 28), '18 - 28 years',\n",
    "                            np.where((data['Age'] > 28) & (data['Age'] <= 38), '28 - 38 years',\n",
    "                                    np.where((data['Age'] > 38) & (data['Age'] <= 48), '38 - 48 years',\n",
    "                                            np.where((data['Age'] > 48) & (data['Age'] <= 58), '48 - 58 years',\n",
    "                                                    np.where((data['Age'] > 58) & (data['Age'] <= 68), '58 - 68 years',\n",
    "                                                            np.where((data['Age'] > 68), '68+ years', 'NA'))))))"
   ]
  },
  {
   "cell_type": "code",
   "execution_count": 31,
   "id": "f4fab299",
   "metadata": {},
   "outputs": [
    {
     "data": {
      "text/html": [
       "<div>\n",
       "<style scoped>\n",
       "    .dataframe tbody tr th:only-of-type {\n",
       "        vertical-align: middle;\n",
       "    }\n",
       "\n",
       "    .dataframe tbody tr th {\n",
       "        vertical-align: top;\n",
       "    }\n",
       "\n",
       "    .dataframe thead th {\n",
       "        text-align: right;\n",
       "    }\n",
       "</style>\n",
       "<table border=\"1\" class=\"dataframe\">\n",
       "  <thead>\n",
       "    <tr style=\"text-align: right;\">\n",
       "      <th></th>\n",
       "      <th>Name</th>\n",
       "      <th>NetWorth</th>\n",
       "      <th>Country</th>\n",
       "      <th>Source</th>\n",
       "      <th>Rank</th>\n",
       "      <th>Age</th>\n",
       "      <th>Industry</th>\n",
       "      <th>Age_Group</th>\n",
       "    </tr>\n",
       "  </thead>\n",
       "  <tbody>\n",
       "    <tr>\n",
       "      <th>0</th>\n",
       "      <td>Jeff Bezos</td>\n",
       "      <td>177.0</td>\n",
       "      <td>United States</td>\n",
       "      <td>Amazon</td>\n",
       "      <td>1</td>\n",
       "      <td>57.0</td>\n",
       "      <td>Technology</td>\n",
       "      <td>48 - 58 years</td>\n",
       "    </tr>\n",
       "    <tr>\n",
       "      <th>1</th>\n",
       "      <td>Elon Musk</td>\n",
       "      <td>151.0</td>\n",
       "      <td>United States</td>\n",
       "      <td>Tesla, SpaceX</td>\n",
       "      <td>2</td>\n",
       "      <td>49.0</td>\n",
       "      <td>Automotive</td>\n",
       "      <td>48 - 58 years</td>\n",
       "    </tr>\n",
       "    <tr>\n",
       "      <th>2</th>\n",
       "      <td>Bernard Arnault &amp; family</td>\n",
       "      <td>150.0</td>\n",
       "      <td>France</td>\n",
       "      <td>LVMH</td>\n",
       "      <td>3</td>\n",
       "      <td>72.0</td>\n",
       "      <td>Fashion &amp; Retail</td>\n",
       "      <td>68+ years</td>\n",
       "    </tr>\n",
       "    <tr>\n",
       "      <th>3</th>\n",
       "      <td>Bill Gates</td>\n",
       "      <td>124.0</td>\n",
       "      <td>United States</td>\n",
       "      <td>Microsoft</td>\n",
       "      <td>4</td>\n",
       "      <td>65.0</td>\n",
       "      <td>Technology</td>\n",
       "      <td>58 - 68 years</td>\n",
       "    </tr>\n",
       "    <tr>\n",
       "      <th>4</th>\n",
       "      <td>Mark Zuckerberg</td>\n",
       "      <td>97.0</td>\n",
       "      <td>United States</td>\n",
       "      <td>Facebook</td>\n",
       "      <td>5</td>\n",
       "      <td>36.0</td>\n",
       "      <td>Technology</td>\n",
       "      <td>28 - 38 years</td>\n",
       "    </tr>\n",
       "  </tbody>\n",
       "</table>\n",
       "</div>"
      ],
      "text/plain": [
       "                       Name  NetWorth        Country         Source  Rank  \\\n",
       "0                Jeff Bezos     177.0  United States         Amazon     1   \n",
       "1                 Elon Musk     151.0  United States  Tesla, SpaceX     2   \n",
       "2  Bernard Arnault & family     150.0         France           LVMH     3   \n",
       "3                Bill Gates     124.0  United States      Microsoft     4   \n",
       "4           Mark Zuckerberg      97.0  United States       Facebook     5   \n",
       "\n",
       "    Age          Industry      Age_Group  \n",
       "0  57.0        Technology  48 - 58 years  \n",
       "1  49.0        Automotive  48 - 58 years  \n",
       "2  72.0  Fashion & Retail      68+ years  \n",
       "3  65.0        Technology  58 - 68 years  \n",
       "4  36.0        Technology  28 - 38 years  "
      ]
     },
     "execution_count": 31,
     "metadata": {},
     "output_type": "execute_result"
    }
   ],
   "source": [
    "data.head()"
   ]
  },
  {
   "cell_type": "code",
   "execution_count": 32,
   "id": "b250dc60",
   "metadata": {},
   "outputs": [
    {
     "data": {
      "text/plain": [
       "68+ years        944\n",
       "58 - 68 years    738\n",
       "48 - 58 years    716\n",
       "38 - 48 years    273\n",
       "28 - 38 years     76\n",
       "18 - 28 years      8\n",
       "Name: Age_Group, dtype: int64"
      ]
     },
     "execution_count": 32,
     "metadata": {},
     "output_type": "execute_result"
    }
   ],
   "source": [
    "data['Age_Group'].value_counts()"
   ]
  },
  {
   "cell_type": "code",
   "execution_count": 34,
   "id": "dc7aaf90",
   "metadata": {},
   "outputs": [
    {
     "data": {
      "text/html": [
       "<div>\n",
       "<style scoped>\n",
       "    .dataframe tbody tr th:only-of-type {\n",
       "        vertical-align: middle;\n",
       "    }\n",
       "\n",
       "    .dataframe tbody tr th {\n",
       "        vertical-align: top;\n",
       "    }\n",
       "\n",
       "    .dataframe thead th {\n",
       "        text-align: right;\n",
       "    }\n",
       "</style>\n",
       "<table border=\"1\" class=\"dataframe\">\n",
       "  <thead>\n",
       "    <tr style=\"text-align: right;\">\n",
       "      <th></th>\n",
       "      <th>Age_Group</th>\n",
       "      <th>NetWorth</th>\n",
       "    </tr>\n",
       "    <tr>\n",
       "      <th>Age_Group</th>\n",
       "      <th></th>\n",
       "      <th></th>\n",
       "    </tr>\n",
       "  </thead>\n",
       "  <tbody>\n",
       "    <tr>\n",
       "      <th>68+ years</th>\n",
       "      <td>944</td>\n",
       "      <td>4937.7</td>\n",
       "    </tr>\n",
       "    <tr>\n",
       "      <th>48 - 58 years</th>\n",
       "      <td>716</td>\n",
       "      <td>3405.2</td>\n",
       "    </tr>\n",
       "    <tr>\n",
       "      <th>58 - 68 years</th>\n",
       "      <td>738</td>\n",
       "      <td>3160.9</td>\n",
       "    </tr>\n",
       "    <tr>\n",
       "      <th>38 - 48 years</th>\n",
       "      <td>273</td>\n",
       "      <td>1150.0</td>\n",
       "    </tr>\n",
       "    <tr>\n",
       "      <th>28 - 38 years</th>\n",
       "      <td>76</td>\n",
       "      <td>411.9</td>\n",
       "    </tr>\n",
       "    <tr>\n",
       "      <th>18 - 28 years</th>\n",
       "      <td>8</td>\n",
       "      <td>18.4</td>\n",
       "    </tr>\n",
       "  </tbody>\n",
       "</table>\n",
       "</div>"
      ],
      "text/plain": [
       "               Age_Group  NetWorth\n",
       "Age_Group                         \n",
       "68+ years            944    4937.7\n",
       "48 - 58 years        716    3405.2\n",
       "58 - 68 years        738    3160.9\n",
       "38 - 48 years        273    1150.0\n",
       "28 - 38 years         76     411.9\n",
       "18 - 28 years          8      18.4"
      ]
     },
     "execution_count": 34,
     "metadata": {},
     "output_type": "execute_result"
    }
   ],
   "source": [
    "Age = data.groupby('Age_Group').agg({'Age_Group' : 'count', 'NetWorth':'sum'})\n",
    "Age.sort_values('NetWorth', ascending = False, inplace = True)\n",
    "Age"
   ]
  },
  {
   "cell_type": "code",
   "execution_count": 43,
   "id": "9ea6f675",
   "metadata": {},
   "outputs": [
    {
     "data": {
      "text/html": [
       "<div>\n",
       "<style scoped>\n",
       "    .dataframe tbody tr th:only-of-type {\n",
       "        vertical-align: middle;\n",
       "    }\n",
       "\n",
       "    .dataframe tbody tr th {\n",
       "        vertical-align: top;\n",
       "    }\n",
       "\n",
       "    .dataframe thead th {\n",
       "        text-align: right;\n",
       "    }\n",
       "</style>\n",
       "<table border=\"1\" class=\"dataframe\">\n",
       "  <thead>\n",
       "    <tr style=\"text-align: right;\">\n",
       "      <th></th>\n",
       "      <th>AgeCount</th>\n",
       "      <th>SumofNetWorth</th>\n",
       "      <th>%CountOfNetWorth</th>\n",
       "    </tr>\n",
       "    <tr>\n",
       "      <th>Age_Group</th>\n",
       "      <th></th>\n",
       "      <th></th>\n",
       "      <th></th>\n",
       "    </tr>\n",
       "  </thead>\n",
       "  <tbody>\n",
       "    <tr>\n",
       "      <th>68+ years</th>\n",
       "      <td>944</td>\n",
       "      <td>4937.7</td>\n",
       "      <td>34.26</td>\n",
       "    </tr>\n",
       "    <tr>\n",
       "      <th>48 - 58 years</th>\n",
       "      <td>716</td>\n",
       "      <td>3405.2</td>\n",
       "      <td>25.99</td>\n",
       "    </tr>\n",
       "    <tr>\n",
       "      <th>58 - 68 years</th>\n",
       "      <td>738</td>\n",
       "      <td>3160.9</td>\n",
       "      <td>26.79</td>\n",
       "    </tr>\n",
       "    <tr>\n",
       "      <th>38 - 48 years</th>\n",
       "      <td>273</td>\n",
       "      <td>1150.0</td>\n",
       "      <td>9.91</td>\n",
       "    </tr>\n",
       "    <tr>\n",
       "      <th>28 - 38 years</th>\n",
       "      <td>76</td>\n",
       "      <td>411.9</td>\n",
       "      <td>2.76</td>\n",
       "    </tr>\n",
       "    <tr>\n",
       "      <th>18 - 28 years</th>\n",
       "      <td>8</td>\n",
       "      <td>18.4</td>\n",
       "      <td>0.29</td>\n",
       "    </tr>\n",
       "  </tbody>\n",
       "</table>\n",
       "</div>"
      ],
      "text/plain": [
       "               AgeCount  SumofNetWorth  %CountOfNetWorth\n",
       "Age_Group                                               \n",
       "68+ years           944         4937.7             34.26\n",
       "48 - 58 years       716         3405.2             25.99\n",
       "58 - 68 years       738         3160.9             26.79\n",
       "38 - 48 years       273         1150.0              9.91\n",
       "28 - 38 years        76          411.9              2.76\n",
       "18 - 28 years         8           18.4              0.29"
      ]
     },
     "execution_count": 43,
     "metadata": {},
     "output_type": "execute_result"
    }
   ],
   "source": [
    "x = data.groupby(by='Age_Group').agg({'Age_Group':'count','NetWorth':'sum'})\n",
    "x.rename({'Age_Group':'AgeCount','NetWorth':'SumofNetWorth'},axis=1,inplace=True)\n",
    "x['%CountOfNetWorth']=round(x['AgeCount']/sum(x['AgeCount'])*100,2)\n",
    "x.sort_values('SumofNetWorth', ascending = False, inplace = True)\n",
    "x"
   ]
  },
  {
   "cell_type": "code",
   "execution_count": null,
   "id": "c1bd13da",
   "metadata": {},
   "outputs": [],
   "source": [
    "#data visualization"
   ]
  },
  {
   "cell_type": "code",
   "execution_count": 71,
   "id": "f41228af",
   "metadata": {},
   "outputs": [
    {
     "data": {
      "image/png": "[encoded data removed]",
      "text/plain": [
       "<Figure size 432x288 with 1 Axes>"
      ]
     },
     "metadata": {
      "needs_background": "light"
     },
     "output_type": "display_data"
    }
   ],
   "source": [
    "#age vs Networth\n",
    "sns.barplot(x=x.index,y='SumofNetWorth',data=x)\n",
    "plt.title('Age count')\n",
    "plt.xticks(rotation=90)\n",
    "plt.ylabel('NetWorth')\n",
    "plt.show()"
   ]
  },
  {
   "cell_type": "code",
   "execution_count": 58,
   "id": "ee14186d",
   "metadata": {},
   "outputs": [],
   "source": [
    "# correlation between variables\n",
    "ap=data.corr()"
   ]
  },
  {
   "cell_type": "code",
   "execution_count": 60,
   "id": "df17932a",
   "metadata": {},
   "outputs": [
    {
     "data": {
      "text/plain": [
       "<AxesSubplot:>"
      ]
     },
     "execution_count": 60,
     "metadata": {},
     "output_type": "execute_result"
    },
    {
     "data": {
      "image/png": "[encoded data removed]",
      "text/plain": [
       "<Figure size 432x288 with 2 Axes>"
      ]
     },
     "metadata": {
      "needs_background": "light"
     },
     "output_type": "display_data"
    }
   ],
   "source": [
    "sns.heatmap(ap,annot=True)"
   ]
  },
  {
   "cell_type": "code",
   "execution_count": 61,
   "id": "cd2c5346",
   "metadata": {},
   "outputs": [
    {
     "data": {
      "text/html": [
       "<div>\n",
       "<style scoped>\n",
       "    .dataframe tbody tr th:only-of-type {\n",
       "        vertical-align: middle;\n",
       "    }\n",
       "\n",
       "    .dataframe tbody tr th {\n",
       "        vertical-align: top;\n",
       "    }\n",
       "\n",
       "    .dataframe thead th {\n",
       "        text-align: right;\n",
       "    }\n",
       "</style>\n",
       "<table border=\"1\" class=\"dataframe\">\n",
       "  <thead>\n",
       "    <tr style=\"text-align: right;\">\n",
       "      <th></th>\n",
       "      <th>Name</th>\n",
       "      <th>NetWorth</th>\n",
       "      <th>Country</th>\n",
       "      <th>Source</th>\n",
       "      <th>Rank</th>\n",
       "      <th>Age</th>\n",
       "      <th>Industry</th>\n",
       "      <th>Age_Group</th>\n",
       "    </tr>\n",
       "  </thead>\n",
       "  <tbody>\n",
       "    <tr>\n",
       "      <th>0</th>\n",
       "      <td>Jeff Bezos</td>\n",
       "      <td>177.0</td>\n",
       "      <td>United States</td>\n",
       "      <td>Amazon</td>\n",
       "      <td>1</td>\n",
       "      <td>57.0</td>\n",
       "      <td>Technology</td>\n",
       "      <td>48 - 58 years</td>\n",
       "    </tr>\n",
       "    <tr>\n",
       "      <th>1</th>\n",
       "      <td>Elon Musk</td>\n",
       "      <td>151.0</td>\n",
       "      <td>United States</td>\n",
       "      <td>Tesla, SpaceX</td>\n",
       "      <td>2</td>\n",
       "      <td>49.0</td>\n",
       "      <td>Automotive</td>\n",
       "      <td>48 - 58 years</td>\n",
       "    </tr>\n",
       "    <tr>\n",
       "      <th>2</th>\n",
       "      <td>Bernard Arnault &amp; family</td>\n",
       "      <td>150.0</td>\n",
       "      <td>France</td>\n",
       "      <td>LVMH</td>\n",
       "      <td>3</td>\n",
       "      <td>72.0</td>\n",
       "      <td>Fashion &amp; Retail</td>\n",
       "      <td>68+ years</td>\n",
       "    </tr>\n",
       "    <tr>\n",
       "      <th>3</th>\n",
       "      <td>Bill Gates</td>\n",
       "      <td>124.0</td>\n",
       "      <td>United States</td>\n",
       "      <td>Microsoft</td>\n",
       "      <td>4</td>\n",
       "      <td>65.0</td>\n",
       "      <td>Technology</td>\n",
       "      <td>58 - 68 years</td>\n",
       "    </tr>\n",
       "    <tr>\n",
       "      <th>4</th>\n",
       "      <td>Mark Zuckerberg</td>\n",
       "      <td>97.0</td>\n",
       "      <td>United States</td>\n",
       "      <td>Facebook</td>\n",
       "      <td>5</td>\n",
       "      <td>36.0</td>\n",
       "      <td>Technology</td>\n",
       "      <td>28 - 38 years</td>\n",
       "    </tr>\n",
       "  </tbody>\n",
       "</table>\n",
       "</div>"
      ],
      "text/plain": [
       "                       Name  NetWorth        Country         Source  Rank  \\\n",
       "0                Jeff Bezos     177.0  United States         Amazon     1   \n",
       "1                 Elon Musk     151.0  United States  Tesla, SpaceX     2   \n",
       "2  Bernard Arnault & family     150.0         France           LVMH     3   \n",
       "3                Bill Gates     124.0  United States      Microsoft     4   \n",
       "4           Mark Zuckerberg      97.0  United States       Facebook     5   \n",
       "\n",
       "    Age          Industry      Age_Group  \n",
       "0  57.0        Technology  48 - 58 years  \n",
       "1  49.0        Automotive  48 - 58 years  \n",
       "2  72.0  Fashion & Retail      68+ years  \n",
       "3  65.0        Technology  58 - 68 years  \n",
       "4  36.0        Technology  28 - 38 years  "
      ]
     },
     "execution_count": 61,
     "metadata": {},
     "output_type": "execute_result"
    }
   ],
   "source": [
    "data.head()"
   ]
  },
  {
   "cell_type": "code",
   "execution_count": 68,
   "id": "4407e9c2",
   "metadata": {},
   "outputs": [
    {
     "data": {
      "image/png": "[encoded data removed]",
      "text/plain": [
       "<Figure size 1440x504 with 1 Axes>"
      ]
     },
     "metadata": {
      "needs_background": "light"
     },
     "output_type": "display_data"
    }
   ],
   "source": [
    "#top 10 countries\n",
    "plt.figure(figsize = (20, 7))\n",
    "plt.bar(list(data['Country'].value_counts()[:10].keys()), (list(data['Country'].value_counts()[:10])))\n",
    "plt.xlabel('Country')\n",
    "plt.ylabel('No. of Billionaries')\n",
    "plt.show()\n"
   ]
  },
  {
   "cell_type": "code",
   "execution_count": 73,
   "id": "89312b99",
   "metadata": {},
   "outputs": [
    {
     "data": {
      "image/png": "[encoded data removed]",
      "text/plain": [
       "<Figure size 1440x504 with 1 Axes>"
      ]
     },
     "metadata": {
      "needs_background": "light"
     },
     "output_type": "display_data"
    }
   ],
   "source": [
    "#below 10 countries \n",
    "plt.figure(figsize = (20, 7))\n",
    "plt.bar(list(data['Country'].value_counts()[-10:].keys()), (list(data['Country'].value_counts()[-10:])))\n",
    "plt.xlabel('Country')\n",
    "plt.ylabel('No. of Billionaries')\n",
    "plt.show()"
   ]
  },
  {
   "cell_type": "code",
   "execution_count": 83,
   "id": "b4b53448",
   "metadata": {},
   "outputs": [
    {
     "data": {
      "image/png": "[encoded data removed]",
      "text/plain": [
       "<Figure size 432x504 with 1 Axes>"
      ]
     },
     "metadata": {},
     "output_type": "display_data"
    }
   ],
   "source": [
    "#distribution of billionaries by industry\n",
    "plt.figure(figsize = (6, 7))\n",
    "plt.pie(data['Industry'].value_counts(), labels = data['Industry'].value_counts().keys(), autopct = '%0.1f%%', startangle = 180, shadow = True)\n",
    "plt.show()"
   ]
  },
  {
   "cell_type": "code",
   "execution_count": null,
   "id": "7dc9e54f",
   "metadata": {},
   "outputs": [],
   "source": []
  }
 ],
 "metadata": {
  "kernelspec": {
   "display_name": "Python 3",
   "language": "python",
   "name": "python3"
  },
  "language_info": {
   "codemirror_mode": {
    "name": "ipython",
    "version": 3
   },
   "file_extension": ".py",
   "mimetype": "text/x-python",
   "name": "python",
   "nbconvert_exporter": "python",
   "pygments_lexer": "ipython3",
   "version": "3.9.1"
  }
 },
 "nbformat": 4,
 "nbformat_minor": 5
}
